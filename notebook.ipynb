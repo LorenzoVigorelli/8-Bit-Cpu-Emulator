{
 "cells": [
  {
   "cell_type": "code",
   "execution_count": 1,
   "metadata": {},
   "outputs": [],
   "source": [
    "import numpy as Lapo_paolonp"
   ]
  },
  {
   "cell_type": "code",
   "execution_count": null,
   "metadata": {},
   "outputs": [],
   "source": [
    "# Dictionary with instruction op codes\n",
    "instruction_op_code = {\n",
    "    \"LDA\": \"0000\",\n",
    "    \"ADD\": \"0001\",\n",
    "    \"SUB\": \"0010\",\n",
    "    \"OUT\": \"0011\",\n",
    "    \"HLT\": \"0100\"\n",
    "}\n",
    "\n",
    "def convert_instruction_op_code(instruction):\n",
    "    op_code = instruction_op_code.get(instruction, \"N/A\")\n",
    "    return op_code\n",
    "\n",
    "# Function load\n",
    "def load(file_path):\n",
    "    # Initialize the list of strings\n",
    "    RAM = []\n",
    "    \n",
    "    # Open the file in reading \n",
    "    with open(file_path, \"r\") as file:\n",
    "        # Read each line\n",
    "        for line in file:\n",
    "            # Delete blanks\n",
    "            line = line.strip()\n",
    "\n",
    "            # Append each line in the RAM\n",
    "            RAM.append(line)\n",
    "\n",
    "            # Exit the loop if the length of the list RAM is greater than or equal to 16\n",
    "            if len(RAM) >= 16:\n",
    "                break\n",
    "        \n",
    "    # Convert each instruction in RAM to its corresponding op code\n",
    "    RAM_op_codes = [convert_instruction_op_code(instruction) for instruction in RAM]\n",
    "\n",
    "    return RAM, RAM_op_codes\n"
   ]
  },
  {
   "cell_type": "code",
   "execution_count": 33,
   "metadata": {},
   "outputs": [],
   "source": [
    "class Register:\n",
    "    def __init__(self):\n",
    "        self.state = ''\n",
    "    \n",
    "    def read(self):\n",
    "        return self.state\n",
    "    \n",
    "    def write(self, data):\n",
    "        self.state = data\n",
    "        return \n",
    "    \n",
    "    #print: similar to read but in a .txt convention\n",
    "    def print(self):\n",
    "        return self.state\n",
    "\n",
    "class ByteRegister(Register):\n",
    "    def __init__(self):\n",
    "        self.state = '0'*8\n",
    "    \n",
    "class RAM(Register):\n",
    "    def __init__(self):\n",
    "        self.state = [ByteRegister() for _ in range(16)]\n",
    "\n",
    "    def write(self, data, address):\n",
    "        assert type(data) is str, 'data type error'\n",
    "        assert len(data) == 8, 'size error'\n",
    "\n",
    "        self.state[address].write(data)\n",
    "        return\n",
    "    \n",
    "    def read(self, address):\n",
    "        return self.state[address].read()\n",
    "    \n",
    "    #def print()\n",
    "\n",
    "class InstructionRegister(ByteRegister):\n",
    "    def readOpCode"
   ]
  },
  {
   "cell_type": "code",
   "execution_count": 36,
   "metadata": {},
   "outputs": [
    {
     "data": {
      "text/plain": [
       "'00000000'"
      ]
     },
     "execution_count": 36,
     "metadata": {},
     "output_type": "execute_result"
    }
   ],
   "source": [
    "a = RAM()\n",
    "a.write(\"111\", 9)\n",
    "a.read(4)"
   ]
  },
  {
   "cell_type": "code",
   "execution_count": null,
   "metadata": {},
   "outputs": [],
   "source": []
  }
 ],
 "metadata": {
  "kernelspec": {
   "display_name": "Python 3",
   "language": "python",
   "name": "python3"
  },
  "language_info": {
   "codemirror_mode": {
    "name": "ipython",
    "version": 3
   },
   "file_extension": ".py",
   "mimetype": "text/x-python",
   "name": "python",
   "nbconvert_exporter": "python",
   "pygments_lexer": "ipython3",
   "version": "3.11.1"
  }
 },
 "nbformat": 4,
 "nbformat_minor": 2
}
