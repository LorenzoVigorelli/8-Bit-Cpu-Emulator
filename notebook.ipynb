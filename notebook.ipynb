{
 "cells": [
  {
   "cell_type": "code",
   "execution_count": 1,
   "metadata": {},
   "outputs": [],
   "source": [
    "import numpy as Lapo_paolonp"
   ]
  },
  {
   "cell_type": "code",
   "execution_count": null,
   "metadata": {},
   "outputs": [],
   "source": [
    "# Dictionary with instruction op codes\n",
    "instruction_op_code = {\n",
    "    \"LDA\": \"0000\",\n",
    "    \"ADD\": \"0001\",\n",
    "    \"SUB\": \"0010\",\n",
    "    \"OUT\": \"0011\",\n",
    "    \"HLT\": \"0100\"\n",
    "}\n",
    "\n",
    "def convert_instruction_op_code(instruction):\n",
    "    op_code = instruction_op_code.get(instruction, \"N/A\")\n",
    "    return op_code\n",
    "\n",
    "# Function load\n",
    "def load(file_path, ram_instance):\n",
    "\n",
    "    # Open the file in reading\n",
    "    with open(file_path, \"r\") as file:\n",
    "        # Read each line\n",
    "        for line in file:\n",
    "            # Delete blanks\n",
    "            line = line.strip()\n",
    "\n",
    "            # Split the line into instruction and hexadecimal number\n",
    "            parts = line.split()\n",
    "            instruction = parts[0]\n",
    "            hex_number = parts[1]\n",
    "\n",
    "            # Convert instruction to op code\n",
    "            op_code = convert_instruction_op_code(instruction)\n",
    "\n",
    "            # Convert hexadecimal number to binary and take the last 4 digits\n",
    "            binary_number = bin(int(hex_number, 16))[2:].zfill(4)[-4:]\n",
    "\n",
    "            # Combine op code and binary number\n",
    "            combined_data = op_code + binary_number\n",
    "\n",
    "            # Append combined data to RAM\n",
    "            ram_instance.write(combined_data, len(ram_instance.state))\n",
    "\n",
    "            # Exit the loop if the length of the RAM is greater than or equal to 16\n",
    "            if len(ram_instance.state) >= 16:\n",
    "                break\n",
    "_file_\n",
    "\n",
    "        "
   ]
  },
  {
   "cell_type": "code",
   "execution_count": 56,
   "metadata": {},
   "outputs": [],
   "source": [
    "class Clock:\n",
    "\tdef __init__():\n",
    "\t\tself.state=0\n",
    "\t\tself.on=True\n",
    "\n",
    "\tdef advance(self, how_much):\n",
    "\t\tself.state+=how_much\n",
    "\n",
    "\tdef __str__():\n",
    "\t\treturn self.state\n",
    "\n",
    "class Microclock():\n",
    "\tdef __init__(n_time_states):\n",
    "\t\tself.state=0\n",
    "\t\tself.n_time_states=n_time_states\n",
    "\n",
    "\tdef advance(self, how_much):\n",
    "\t\tself.state=(self.state+how_much)%self.n_time_states\n",
    "\n",
    "\tdef __str__():\n",
    "\t\treturn self.state"
   ]
  },
  {
   "cell_type": "code",
   "execution_count": 50,
   "metadata": {},
   "outputs": [
    {
     "ename": "SyntaxError",
     "evalue": "invalid syntax (945811178.py, line 48)",
     "output_type": "error",
     "traceback": [
      "\u001b[1;36m  Cell \u001b[1;32mIn[50], line 48\u001b[1;36m\u001b[0m\n\u001b[1;33m    self.state =\u001b[0m\n\u001b[1;37m                 ^\u001b[0m\n\u001b[1;31mSyntaxError\u001b[0m\u001b[1;31m:\u001b[0m invalid syntax\n"
     ]
    }
   ],
   "source": [
    "class Register:\n",
    "    def __init__(self):\n",
    "        self.state = ''\n",
    "    \n",
    "    def read(self):\n",
    "        return self.state\n",
    "    \n",
    "    def write(self, data):\n",
    "        self.state = data\n",
    "    \n",
    "    #print: similar to read but in a .txt convention\n",
    "    def print(self):\n",
    "        return self.state\n",
    "\n",
    "class ByteRegister(Register):\n",
    "    def __init__(self):\n",
    "        self.state = '0'*8\n",
    "\n",
    "class NibbleRegister(Register):\n",
    "    def __init__(self):\n",
    "        self.state = '0'*4\n",
    "    \n",
    "class RAM(Register):\n",
    "    def __init__(self):\n",
    "        self.state = [ByteRegister() for _ in range(16)]\n",
    "\n",
    "    def write(self, data, address):\n",
    "        assert type(data) is str, 'data type error'\n",
    "        assert len(data) == 8, 'size error'\n",
    "\n",
    "        self.state[address].write(data)\n",
    "        return\n",
    "    \n",
    "    def read(self, address):\n",
    "        return self.state[address].read()\n",
    "    \n",
    "    #def print()\n",
    "\n",
    "class InstructionRegister(ByteRegister):\n",
    "    def readOpCode(self):\n",
    "        return self.read()[:4]\n",
    "    \n",
    "    def readOperand(self):\n",
    "        return self.read()[4:]\n",
    "    \n",
    "class ProgramCounter(Register):\n",
    "    def __init__(state):\n",
    "        self.state = "
   ]
  },
  {
   "cell_type": "code",
   "execution_count": null,
   "metadata": {},
   "outputs": [],
   "source": []
  },
  {
   "cell_type": "code",
   "execution_count": null,
   "metadata": {},
   "outputs": [],
   "source": []
  }
 ],
 "metadata": {
  "kernelspec": {
   "display_name": "Python 3",
   "language": "python",
   "name": "python3"
  },
  "language_info": {
   "codemirror_mode": {
    "name": "ipython",
    "version": 3
   },
   "file_extension": ".py",
   "mimetype": "text/x-python",
   "name": "python",
   "nbconvert_exporter": "python",
   "pygments_lexer": "ipython3",
   "version": "3.11.1"
  }
 },
 "nbformat": 4,
 "nbformat_minor": 2
}
