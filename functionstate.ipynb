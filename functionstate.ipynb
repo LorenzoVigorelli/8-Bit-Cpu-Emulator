{
 "cells": [
  {
   "cell_type": "code",
   "execution_count": null,
   "metadata": {},
   "outputs": [],
   "source": [
    "def __str__(self):\n",
    "        snapshot = f\"Clock: {self.clock.__str__()}\\nProgram Counter: {self.programCounter.__str__()}\\n\" \\\n",
    "                   f\"Memory Address Register: {self.memoryAddressRegister.__str__()}\\nA Register: {self.aRegister.__str__()}\\n\" \\\n",
    "                   f\"B Register: {self.bRegister.__str__()}\\nInstruction Register: {self.instructionRegister.__str__()}\\n\" \\\n",
    "                   f\"Flag A: {self.flagA.__str__()}\\nRAM:\\n{self.ram.__str__()}\\n\"\n",
    "\n",
    "        schrodinger_cat_art = \"\"\"\n",
    "  ,------,\n",
    " /  ~ ~   \\,------.\n",
    "(    '    /  (@)   \\\n",
    " \\ ~ ----'\\ ,----'   |\n",
    "  '------'  \\ `----'   \\\n",
    "             `._`        \\\n",
    "               | \\        \\\n",
    "               |  \\        \\\n",
    "               /(`  \\       |\n",
    "              /   `- \\      |\n",
    "             /      `-\\     |\n",
    "            /         |     |\n",
    "           |     \\    \\    )\n",
    "           |      \\    \\__/\n",
    "           |       \\\n",
    "           |        \\\n",
    "           |         \\\n",
    "\"\"\"\n",
    "        return snapshot + schrodinger_cat_art\n"
   ]
  },
  {
   "cell_type": "code",
   "execution_count": null,
   "metadata": {},
   "outputs": [],
   "source": [
    "bin"
   ]
  }
 ],
 "metadata": {
  "language_info": {
   "name": "python"
  }
 },
 "nbformat": 4,
 "nbformat_minor": 2
}
